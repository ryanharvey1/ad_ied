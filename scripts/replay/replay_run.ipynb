{
 "cells": [
  {
   "cell_type": "code",
   "execution_count": 10,
   "metadata": {},
   "outputs": [],
   "source": [
    "%reload_ext autoreload\n",
    "%autoreload 2\n",
    "\n",
    "from ripple_heterogeneity.utils import (\n",
    "    functions,\n",
    "    loading,\n",
    "    compress_repeated_epochs,\n",
    "    batch_analysis,\n",
    "    add_new_deep_sup,\n",
    "    custom_plots\n",
    ")\n",
    "from ripple_heterogeneity.replay import replay_fig\n",
    "from ad_ied.replay import replay_run\n",
    "import pandas as pd\n",
    "import numpy as np\n",
    "import matplotlib.pyplot as plt\n",
    "import glob\n",
    "import os\n",
    "import pickle\n",
    "import seaborn as sns\n",
    "import nelpy as nel\n",
    "import nelpy.plotting as npl\n",
    "import random\n",
    "from matplotlib.ticker import AutoMinorLocator\n",
    "\n",
    "functions.set_plotting_defaults()\n",
    "%matplotlib inline\n",
    "%config InlineBackend.figure_format = 'retina'\n",
    "fig_save_path = r'D:\\github\\ad_ied\\results'\n"
   ]
  },
  {
   "cell_type": "code",
   "execution_count": 8,
   "metadata": {},
   "outputs": [],
   "source": [
    "df = pd.DataFrame()\n",
    "df[\"basepath\"] = [\n",
    "    r'X:\\AD_sessions\\AD_10_sess25\\AZ10_210806_sess25',\n",
    "    r'X:\\AD_sessions\\AD_10_sess25\\AZ15_221102_sess8',\n",
    "    r'X:\\AD_sessions\\AD_10_sess25\\Naz1_210324_sess5',\n",
    "    r'X:\\AD_sessions\\WT_1_sess26\\Naz1_210811_sess26'\n",
    "]\n",
    "df.to_csv(r\"D:\\github\\ad_ied\\data\\sessions.csv\",index=True)"
   ]
  },
  {
   "cell_type": "code",
   "execution_count": 6,
   "metadata": {},
   "outputs": [
    {
     "data": {
      "text/html": [
       "<div>\n",
       "<style scoped>\n",
       "    .dataframe tbody tr th:only-of-type {\n",
       "        vertical-align: middle;\n",
       "    }\n",
       "\n",
       "    .dataframe tbody tr th {\n",
       "        vertical-align: top;\n",
       "    }\n",
       "\n",
       "    .dataframe thead th {\n",
       "        text-align: right;\n",
       "    }\n",
       "</style>\n",
       "<table border=\"1\" class=\"dataframe\">\n",
       "  <thead>\n",
       "    <tr style=\"text-align: right;\">\n",
       "      <th></th>\n",
       "      <th>basepath</th>\n",
       "    </tr>\n",
       "  </thead>\n",
       "  <tbody>\n",
       "    <tr>\n",
       "      <th>0</th>\n",
       "      <td>X:\\AD_sessions\\AD_10_sess25\\AZ10_210806_sess25</td>\n",
       "    </tr>\n",
       "    <tr>\n",
       "      <th>1</th>\n",
       "      <td>X:\\AD_sessions\\AD_10_sess25\\AZ15_221102_sess8</td>\n",
       "    </tr>\n",
       "    <tr>\n",
       "      <th>2</th>\n",
       "      <td>X:\\AD_sessions\\AD_10_sess25\\Naz1_210324_sess5</td>\n",
       "    </tr>\n",
       "    <tr>\n",
       "      <th>3</th>\n",
       "      <td>X:\\AD_sessions\\WT_1_sess26\\Naz1_210811_sess26</td>\n",
       "    </tr>\n",
       "  </tbody>\n",
       "</table>\n",
       "</div>"
      ],
      "text/plain": [
       "                                         basepath\n",
       "0  X:\\AD_sessions\\AD_10_sess25\\AZ10_210806_sess25\n",
       "1   X:\\AD_sessions\\AD_10_sess25\\AZ15_221102_sess8\n",
       "2   X:\\AD_sessions\\AD_10_sess25\\Naz1_210324_sess5\n",
       "3   X:\\AD_sessions\\WT_1_sess26\\Naz1_210811_sess26"
      ]
     },
     "execution_count": 6,
     "metadata": {},
     "output_type": "execute_result"
    }
   ],
   "source": [
    "df"
   ]
  },
  {
   "cell_type": "code",
   "execution_count": null,
   "metadata": {},
   "outputs": [],
   "source": [
    "replay_run.run(r\"X:\\AD_sessions\\AD_10_sess25\\AZ10_210806_sess25\")"
   ]
  },
  {
   "cell_type": "code",
   "execution_count": 18,
   "metadata": {},
   "outputs": [
    {
     "name": "stderr",
     "output_type": "stream",
     "text": [
      "100%|██████████| 1/1 [00:00<00:00, 40.11it/s]\n"
     ]
    }
   ],
   "source": [
    "save_path = r\"D:\\github\\ad_ied\\data\\replay_v1\"\n",
    "df[\"basepath\"] = r\"X:\\AD_sessions\\AD_10_sess25\\AZ10_210806_sess25\"\n",
    "batch_analysis.run(\n",
    "    df,\n",
    "    save_path,\n",
    "    replay_run.run,\n",
    "    parallel=True,\n",
    "    skip_if_error=False,\n",
    "    traj_shuff=1000,\n",
    "    verbose=True,\n",
    ")\n"
   ]
  },
  {
   "cell_type": "code",
   "execution_count": null,
   "metadata": {},
   "outputs": [],
   "source": [
    "df = replay_run.load_results(save_path,pre_task_post=False,verbose=True)"
   ]
  },
  {
   "cell_type": "markdown",
   "metadata": {},
   "source": [
    "## Inspect decoding quality"
   ]
  },
  {
   "cell_type": "code",
   "execution_count": null,
   "metadata": {},
   "outputs": [],
   "source": [
    "fig, axs = plt.subplots(1, 3, figsize=(20, 4))\n",
    "axs[0].plot(df.decoding_r2_pval, '.k')\n",
    "axs[0].set_ylabel('decoding_r2_pval')\n",
    "axs[0].set_xlabel('n ripples')\n",
    "axs[0].axhline(0.05, color='k', linestyle='--')\n",
    "\n",
    "sns.scatterplot(x=\"total_units\", y=\"decoding_r2\",\n",
    "                hue=df.decoding_median_error<23,\n",
    "                data=df, ax=axs[1], legend=False, palette=\"rocket_r\")\n",
    "\n",
    "sns.scatterplot(x=\"total_units\", y=\"decoding_median_error\",\n",
    "                hue=df.decoding_median_error<23,palette=\"rocket_r\",\n",
    "                data=df, ax=axs[2], legend=False)\n",
    "# axs[2].legend(bbox_to_anchor=(1.1, 1.05))\n",
    "axs[2].axhline(23, color='k', linestyle='--')"
   ]
  },
  {
   "cell_type": "code",
   "execution_count": null,
   "metadata": {},
   "outputs": [],
   "source": [
    "alpha = 0.05\n",
    "print('n ripples', df.shape[0])\n",
    "print('pass by col swap', sum(df['score_pval_col_cycle'] < alpha))\n",
    "\n",
    "print(df[df['score_pval_col_cycle'] < alpha].basepath.value_counts())\n",
    "print('')\n",
    "print('pass by time swap', sum(df['score_pval_time_swap'] < alpha))\n",
    "print(df[df['score_pval_time_swap'] < alpha].basepath.value_counts())\n",
    "print('')\n",
    "print('pass by time swap & col swap', sum(\n",
    "    (df['score_pval_time_swap'] < alpha) & (df['score_pval_col_cycle'] < alpha)))\n",
    "print(df[(df['score_pval_time_swap'] < alpha) & (\n",
    "    df['score_pval_col_cycle'] < alpha)].basepath.value_counts())"
   ]
  },
  {
   "cell_type": "code",
   "execution_count": null,
   "metadata": {},
   "outputs": [],
   "source": [
    "forward_path = os.path.join(fig_save_path, 'replay_examples', 'forward')\n",
    "reverse_path = os.path.join(fig_save_path, 'replay_examples', 'reverse')\n",
    "\n",
    "if not os.path.isdir(forward_path):\n",
    "    os.mkdir(forward_path)\n",
    "if not os.path.isdir(reverse_path):\n",
    "    os.mkdir(reverse_path)\n",
    "\n",
    "sessions = glob.glob(save_path + os.sep + '*.pkl')\n",
    "for session in sessions:\n",
    "    with open(session, 'rb') as f:\n",
    "        results = pickle.load(f)\n",
    "\n",
    "    if results is None:\n",
    "        continue\n",
    "    \n",
    "    basepath = results['right_epochs']['session']\n",
    "    animal_name = loading.get_animal_id(basepath)\n",
    "    basename = os.path.basename(basepath)\n",
    "    idx = np.where((results['right_epochs']['df'].score_pval_time_swap < 0.05) &\n",
    "                    (results['right_epochs']['df'].replay_type == 'forward'))[0]\n",
    "\n",
    "    if (results['right_epochs'][\"decoding_r2_pval\"] > 0.05) | (results['right_epochs'][\"decoding_median_error\"] > 30):\n",
    "        idx = []\n",
    "            \n",
    "    if len(idx) > 0:\n",
    "        ax, fig = replay_fig.plot_all_replay(results['right_epochs']['bst_placecells'][idx],\n",
    "                                                results['right_epochs']['sta_placecells'],\n",
    "                                                results['right_epochs']['tc'],\n",
    "                                                results['right_epochs']['tc'],\n",
    "                                                vmax=.1)\n",
    "        fig.savefig(os.path.join(fig_save_path, 'replay_examples', forward_path,\n",
    "                    basename+'_'+animal_name+'_.jpeg'), dpi=300, bbox_inches='tight')\n",
    "        plt.close(fig)\n",
    "\n",
    "    idx = np.where((results['left_epochs']['df'].score_pval_time_swap < 0.05) &\n",
    "                    (results['left_epochs']['df'].replay_type == 'forward'))[0]\n",
    "\n",
    "    if (results['left_epochs'][\"decoding_r2_pval\"] > 0.05) | (results['left_epochs'][\"decoding_median_error\"] > 30):\n",
    "        idx = []\n",
    "    if len(idx) > 0:\n",
    "        ax, fig = replay_fig.plot_all_replay(results['left_epochs']['bst_placecells'][idx],\n",
    "                                                results['left_epochs']['sta_placecells'],\n",
    "                                                results['left_epochs']['tc'],\n",
    "                                                results['left_epochs']['tc'],\n",
    "                                                vmax=.1)\n",
    "        fig.savefig(os.path.join(fig_save_path, 'replay_examples', forward_path,\n",
    "                    basename+'_'+animal_name+'1_.jpeg'), dpi=300, bbox_inches='tight')\n",
    "        plt.close(fig)\n",
    "\n",
    "    idx = np.where((results['right_epochs']['df'].score_pval_time_swap < 0.05) &\n",
    "                    (results['right_epochs']['df'].replay_type == 'reverse'))[0]\n",
    "    if (results['right_epochs'][\"decoding_r2_pval\"] > 0.05) | (results['right_epochs'][\"decoding_median_error\"] > 30):\n",
    "        idx = []               \n",
    "    if len(idx) > 0:\n",
    "        ax, fig = replay_fig.plot_all_replay(results['right_epochs']['bst_placecells'][idx],\n",
    "                                                results['right_epochs']['sta_placecells'],\n",
    "                                                results['right_epochs']['tc'],\n",
    "                                                results['right_epochs']['tc'],\n",
    "                                                vmax=.1)\n",
    "        fig.savefig(os.path.join(fig_save_path, 'replay_examples', reverse_path,\n",
    "                    basename+'_'+animal_name+'_.jpeg'), dpi=300, bbox_inches='tight')\n",
    "        plt.close(fig)\n",
    "\n",
    "    idx = np.where((results['left_epochs']['df'].score_pval_time_swap < 0.05) &\n",
    "                    (results['left_epochs']['df'].replay_type == 'reverse'))[0]\n",
    "    if (results['left_epochs'][\"decoding_r2_pval\"] > 0.05) | (results['left_epochs'][\"decoding_median_error\"] > 30):\n",
    "        idx = []                \n",
    "    if len(idx) > 0:\n",
    "        ax, fig = replay_fig.plot_all_replay(results['left_epochs']['bst_placecells'][idx],\n",
    "                                                results['left_epochs']['sta_placecells'],\n",
    "                                                results['left_epochs']['tc'],\n",
    "                                                results['left_epochs']['tc'],\n",
    "                                                vmax=.1)\n",
    "        fig.savefig(os.path.join(fig_save_path, 'replay_examples', reverse_path,\n",
    "                    basename+'_'+animal_name+'1_.jpeg'), dpi=300, bbox_inches='tight')\n",
    "        plt.close(fig)"
   ]
  }
 ],
 "metadata": {
  "kernelspec": {
   "display_name": "Python 3.9.15 ('ad_ied')",
   "language": "python",
   "name": "python3"
  },
  "language_info": {
   "codemirror_mode": {
    "name": "ipython",
    "version": 3
   },
   "file_extension": ".py",
   "mimetype": "text/x-python",
   "name": "python",
   "nbconvert_exporter": "python",
   "pygments_lexer": "ipython3",
   "version": "3.9.15"
  },
  "orig_nbformat": 4,
  "vscode": {
   "interpreter": {
    "hash": "d606a6820e00911ac47100009e51a3b769cac7f9997337cb81f45e0c530c109c"
   }
  }
 },
 "nbformat": 4,
 "nbformat_minor": 2
}
