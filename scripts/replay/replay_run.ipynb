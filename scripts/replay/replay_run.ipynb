{
 "cells": [
  {
   "cell_type": "code",
   "execution_count": 2,
   "metadata": {},
   "outputs": [],
   "source": [
    "%reload_ext autoreload\n",
    "%autoreload 2\n",
    "\n",
    "from ripple_heterogeneity.utils import (\n",
    "    functions,\n",
    "    loading,\n",
    "    compress_repeated_epochs,\n",
    "    batch_analysis,\n",
    "    add_new_deep_sup,\n",
    "    custom_plots\n",
    ")\n",
    "from ripple_heterogeneity.replay import replay_run, replay_fig, replay_participation\n",
    "import pandas as pd\n",
    "import numpy as np\n",
    "import matplotlib.pyplot as plt\n",
    "import glob\n",
    "import os\n",
    "import pickle\n",
    "import seaborn as sns\n",
    "import nelpy as nel\n",
    "import nelpy.plotting as npl\n",
    "import random\n",
    "from matplotlib.ticker import AutoMinorLocator\n",
    "\n",
    "functions.set_plotting_defaults()\n",
    "%matplotlib inline\n",
    "%config InlineBackend.figure_format = 'retina'\n",
    "fig_save_path = r'D:\\github\\ad_ied\\results'\n"
   ]
  },
  {
   "cell_type": "code",
   "execution_count": 3,
   "metadata": {},
   "outputs": [],
   "source": [
    "df = pd.DataFrame()\n",
    "df[\"basepath\"] = [\n",
    "    r\"X:\\AD_sessions\\AD_10_sess25\\AZ10_210806_sess25\",\n",
    "    r\"X:\\AD_sessions\\AD_10_sess25\\AZ15_221102_sess8\",\n",
    "    r\"X:\\AD_sessions\\AD_10_sess25\\Naz1_210324_sess5\",\n",
    "    r\"X:\\AD_sessions\\WT_1_sess26\\Naz1_210811_sess26\"\n",
    "]"
   ]
  }
 ],
 "metadata": {
  "kernelspec": {
   "display_name": "Python 3.9.15 ('ad_ied')",
   "language": "python",
   "name": "python3"
  },
  "language_info": {
   "codemirror_mode": {
    "name": "ipython",
    "version": 3
   },
   "file_extension": ".py",
   "mimetype": "text/x-python",
   "name": "python",
   "nbconvert_exporter": "python",
   "pygments_lexer": "ipython3",
   "version": "3.9.15"
  },
  "orig_nbformat": 4,
  "vscode": {
   "interpreter": {
    "hash": "d606a6820e00911ac47100009e51a3b769cac7f9997337cb81f45e0c530c109c"
   }
  }
 },
 "nbformat": 4,
 "nbformat_minor": 2
}
