{
 "cells": [
  {
   "cell_type": "code",
   "execution_count": 10,
   "metadata": {},
   "outputs": [],
   "source": [
    "%reload_ext autoreload\n",
    "%autoreload 2\n",
    "\n",
    "from ripple_heterogeneity.utils import (\n",
    "    functions,\n",
    "    loading,\n",
    "    compress_repeated_epochs,\n",
    "    batch_analysis,\n",
    "    add_new_deep_sup,\n",
    "    custom_plots\n",
    ")\n",
    "from ripple_heterogeneity.replay import replay_fig\n",
    "from ad_ied.replay import replay_run\n",
    "import pandas as pd\n",
    "import numpy as np\n",
    "import matplotlib.pyplot as plt\n",
    "import glob\n",
    "import os\n",
    "import pickle\n",
    "import seaborn as sns\n",
    "import nelpy as nel\n",
    "import nelpy.plotting as npl\n",
    "import random\n",
    "from matplotlib.ticker import AutoMinorLocator\n",
    "\n",
    "functions.set_plotting_defaults()\n",
    "%matplotlib inline\n",
    "%config InlineBackend.figure_format = 'retina'\n",
    "fig_save_path = r'D:\\github\\ad_ied\\results'\n"
   ]
  },
  {
   "cell_type": "code",
   "execution_count": 8,
   "metadata": {},
   "outputs": [],
   "source": [
    "df = pd.DataFrame()\n",
    "df[\"basepath\"] = [\n",
    "    r'X:\\AD_sessions\\AD_10_sess25\\AZ10_210806_sess25',\n",
    "    r'X:\\AD_sessions\\AD_10_sess25\\AZ15_221102_sess8',\n",
    "    r'X:\\AD_sessions\\AD_10_sess25\\Naz1_210324_sess5',\n",
    "    r'X:\\AD_sessions\\WT_1_sess26\\Naz1_210811_sess26'\n",
    "]\n",
    "df.to_csv(r\"D:\\github\\ad_ied\\data\\sessions.csv\",index=True)"
   ]
  },
  {
   "cell_type": "code",
   "execution_count": 6,
   "metadata": {},
   "outputs": [
    {
     "data": {
      "text/html": [
       "<div>\n",
       "<style scoped>\n",
       "    .dataframe tbody tr th:only-of-type {\n",
       "        vertical-align: middle;\n",
       "    }\n",
       "\n",
       "    .dataframe tbody tr th {\n",
       "        vertical-align: top;\n",
       "    }\n",
       "\n",
       "    .dataframe thead th {\n",
       "        text-align: right;\n",
       "    }\n",
       "</style>\n",
       "<table border=\"1\" class=\"dataframe\">\n",
       "  <thead>\n",
       "    <tr style=\"text-align: right;\">\n",
       "      <th></th>\n",
       "      <th>basepath</th>\n",
       "    </tr>\n",
       "  </thead>\n",
       "  <tbody>\n",
       "    <tr>\n",
       "      <th>0</th>\n",
       "      <td>X:\\AD_sessions\\AD_10_sess25\\AZ10_210806_sess25</td>\n",
       "    </tr>\n",
       "    <tr>\n",
       "      <th>1</th>\n",
       "      <td>X:\\AD_sessions\\AD_10_sess25\\AZ15_221102_sess8</td>\n",
       "    </tr>\n",
       "    <tr>\n",
       "      <th>2</th>\n",
       "      <td>X:\\AD_sessions\\AD_10_sess25\\Naz1_210324_sess5</td>\n",
       "    </tr>\n",
       "    <tr>\n",
       "      <th>3</th>\n",
       "      <td>X:\\AD_sessions\\WT_1_sess26\\Naz1_210811_sess26</td>\n",
       "    </tr>\n",
       "  </tbody>\n",
       "</table>\n",
       "</div>"
      ],
      "text/plain": [
       "                                         basepath\n",
       "0  X:\\AD_sessions\\AD_10_sess25\\AZ10_210806_sess25\n",
       "1   X:\\AD_sessions\\AD_10_sess25\\AZ15_221102_sess8\n",
       "2   X:\\AD_sessions\\AD_10_sess25\\Naz1_210324_sess5\n",
       "3   X:\\AD_sessions\\WT_1_sess26\\Naz1_210811_sess26"
      ]
     },
     "execution_count": 6,
     "metadata": {},
     "output_type": "execute_result"
    }
   ],
   "source": [
    "df"
   ]
  },
  {
   "cell_type": "code",
   "execution_count": null,
   "metadata": {},
   "outputs": [],
   "source": [
    "replay_run.run(r\"X:\\AD_sessions\\AD_10_sess25\\AZ10_210806_sess25\")"
   ]
  },
  {
   "cell_type": "code",
   "execution_count": null,
   "metadata": {},
   "outputs": [],
   "source": [
    "save_path = r\"D:\\github\\ad_ied\\data\\replay_v1\"\n",
    "df[\"basepath\"] = r\"X:\\AD_sessions\\AD_10_sess25\\AZ10_210806_sess25\"\n",
    "batch_analysis.run(\n",
    "    df,\n",
    "    save_path,\n",
    "    replay_run.run,\n",
    "    parallel=True,\n",
    "    skip_if_error=False,\n",
    "    traj_shuff=1000,\n",
    "    verbose=True,\n",
    ")\n"
   ]
  }
 ],
 "metadata": {
  "kernelspec": {
   "display_name": "Python 3.9.15 ('ad_ied')",
   "language": "python",
   "name": "python3"
  },
  "language_info": {
   "codemirror_mode": {
    "name": "ipython",
    "version": 3
   },
   "file_extension": ".py",
   "mimetype": "text/x-python",
   "name": "python",
   "nbconvert_exporter": "python",
   "pygments_lexer": "ipython3",
   "version": "3.9.15"
  },
  "orig_nbformat": 4,
  "vscode": {
   "interpreter": {
    "hash": "d606a6820e00911ac47100009e51a3b769cac7f9997337cb81f45e0c530c109c"
   }
  }
 },
 "nbformat": 4,
 "nbformat_minor": 2
}
